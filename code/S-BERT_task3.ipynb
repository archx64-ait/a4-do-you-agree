{
 "cells": [
  {
   "cell_type": "code",
   "execution_count": 1,
   "metadata": {},
   "outputs": [
    {
     "name": "stdout",
     "output_type": "stream",
     "text": [
      "CUDA is available. Using GPU.\n"
     ]
    }
   ],
   "source": [
    "import torch\n",
    "\n",
    "if torch.cuda.is_available():\n",
    "    device = torch.device(\"cuda\" if torch.cuda.is_available() else \"cpu\")\n",
    "    print(\"CUDA is available. Using GPU.\")\n",
    "else:\n",
    "    device = torch.device(\"cpu\")\n",
    "    print(\"CUDA is not available. Using CPU.\")"
   ]
  },
  {
   "cell_type": "code",
   "execution_count": 2,
   "metadata": {},
   "outputs": [],
   "source": [
    "SEED = 69\n",
    "torch.manual_seed(SEED)\n",
    "torch.backends.cudnn.deterministic = True"
   ]
  },
  {
   "cell_type": "code",
   "execution_count": 3,
   "metadata": {},
   "outputs": [],
   "source": [
    "import datasets\n",
    "mnli = datasets.load_dataset('glue', 'mnli')\n",
    "mnli_matched = mnli.filter(lambda x: x['label'] >= 0)"
   ]
  },
  {
   "cell_type": "code",
   "execution_count": 4,
   "metadata": {},
   "outputs": [],
   "source": [
    "from datasets import DatasetDict\n",
    "\n",
    "train_range = 1000\n",
    "validation_range = 1000\n",
    "test_range = 100\n",
    "\n",
    "# The test set in both mnli_matched and mnli_mismatched does not have gold labels.\n",
    "# In MNLI, the test set is unannotated, so label = -1 is used as a placeholder.\n",
    "\n",
    "raw_dataset = DatasetDict({\n",
    "    'train': mnli['train'].shuffle(seed=SEED).select(list(range(train_range))),\n",
    "    'validation': mnli['validation_matched'].shuffle(seed=SEED).select(list(range(validation_range))),\n",
    "    'test': mnli['validation_mismatched'].shuffle(seed=SEED).select(list(range(test_range))),\n",
    "})"
   ]
  },
  {
   "cell_type": "code",
   "execution_count": 5,
   "metadata": {},
   "outputs": [
    {
     "name": "stdout",
     "output_type": "stream",
     "text": [
      "Unique Labels in Train Set: [0 1 2]\n",
      "Unique Labels in Validation Set: [0 1 2]\n",
      "Unique Labels in Test Set: [0 1 2]\n"
     ]
    }
   ],
   "source": [
    "import numpy as np\n",
    "print(\"Unique Labels in Train Set:\", np.unique(raw_dataset['train']['label']))\n",
    "print(\"Unique Labels in Validation Set:\", np.unique(raw_dataset['validation']['label']))\n",
    "print(\"Unique Labels in Test Set:\", np.unique(raw_dataset['test']['label']))"
   ]
  },
  {
   "cell_type": "code",
   "execution_count": 6,
   "metadata": {},
   "outputs": [],
   "source": [
    "import json\n",
    "\n",
    "with open('models/my_tokenizer.json', 'r') as f:\n",
    "    tokenizer = json.load(f)\n",
    "word2id = tokenizer['word2id']\n",
    "id2word = tokenizer['id2word']\n",
    "vocab_size = len(word2id)"
   ]
  },
  {
   "cell_type": "code",
   "execution_count": 7,
   "metadata": {},
   "outputs": [],
   "source": [
    "def custom_tokenizer(sentences, max_length, padding='max_length', truncation=True):\n",
    "    tokenized_outputs = {\"input_ids\": [], \"attention_mask\": []}\n",
    "    for sentence in sentences:\n",
    "        tokens = sentence.lower().split()\n",
    "        token_ids = [word2id.get(token, word2id['[UNK]']) for token in tokens]\n",
    "        \n",
    "        #add [CLS] at the start and [SEP] at the end for BERT compatibility\n",
    "        token_ids = [word2id['[CLS]']] + token_ids + [word2id['[SEP]']]\n",
    "        \n",
    "        #truncate if longer than max_length\n",
    "        if truncation and len(token_ids) > max_length:\n",
    "            token_ids = token_ids[:max_length-1] + [word2id['[SEP]']]\n",
    "        \n",
    "        attention_mask = [1] * len(token_ids)\n",
    "        \n",
    "        #pad if shorter than max_length\n",
    "        if padding == 'max_length':\n",
    "            padding_length = max_length - len(token_ids)\n",
    "            token_ids += [word2id['[PAD]']] * padding_length\n",
    "            attention_mask += [0] * padding_length\n",
    "        \n",
    "        tokenized_outputs[\"input_ids\"].append(token_ids)\n",
    "        tokenized_outputs[\"attention_mask\"].append(attention_mask)\n",
    "    return tokenized_outputs"
   ]
  },
  {
   "cell_type": "code",
   "execution_count": 8,
   "metadata": {},
   "outputs": [
    {
     "data": {
      "application/vnd.jupyter.widget-view+json": {
       "model_id": "4a11c2d697f44d01b9f25578e618d18e",
       "version_major": 2,
       "version_minor": 0
      },
      "text/plain": [
       "Map:   0%|          | 0/1000 [00:00<?, ? examples/s]"
      ]
     },
     "metadata": {},
     "output_type": "display_data"
    },
    {
     "data": {
      "application/vnd.jupyter.widget-view+json": {
       "model_id": "e56c9928b4e5482ca27c8af9de779481",
       "version_major": 2,
       "version_minor": 0
      },
      "text/plain": [
       "Map:   0%|          | 0/100 [00:00<?, ? examples/s]"
      ]
     },
     "metadata": {},
     "output_type": "display_data"
    }
   ],
   "source": [
    "def preprocess_function(examples):\n",
    "    max_seq_length = 1000\n",
    "    padding = 'max_length'\n",
    "    \n",
    "    #tokenize premise\n",
    "    premise_result = custom_tokenizer(\n",
    "        examples['premise'], \n",
    "        max_length=max_seq_length, \n",
    "        padding=padding, \n",
    "        truncation=True\n",
    "    )\n",
    "    \n",
    "    #tokenize hypothesis\n",
    "    hypothesis_result = custom_tokenizer(\n",
    "        examples['hypothesis'], \n",
    "        max_length=max_seq_length, \n",
    "        padding=padding, \n",
    "        truncation=True\n",
    "    )\n",
    "    \n",
    "    #extract labels\n",
    "    labels = examples[\"label\"]\n",
    "    \n",
    "    return {\n",
    "        \"premise_input_ids\": premise_result[\"input_ids\"],\n",
    "        \"premise_attention_mask\": premise_result[\"attention_mask\"],\n",
    "        \"hypothesis_input_ids\": hypothesis_result[\"input_ids\"],\n",
    "        \"hypothesis_attention_mask\": hypothesis_result[\"attention_mask\"],\n",
    "        \"labels\": labels\n",
    "    }\n",
    "\n",
    "\n",
    "tokenized_datasets = raw_dataset.map(\n",
    "    preprocess_function,\n",
    "    batched=True,\n",
    ")\n",
    "\n",
    "tokenized_datasets = tokenized_datasets.remove_columns(['premise', 'hypothesis', 'label'])\n",
    "tokenized_datasets.set_format(\"torch\")"
   ]
  },
  {
   "cell_type": "code",
   "execution_count": 9,
   "metadata": {},
   "outputs": [
    {
     "data": {
      "text/plain": [
       "DatasetDict({\n",
       "    train: Dataset({\n",
       "        features: ['idx', 'premise_input_ids', 'premise_attention_mask', 'hypothesis_input_ids', 'hypothesis_attention_mask', 'labels'],\n",
       "        num_rows: 1000\n",
       "    })\n",
       "    validation: Dataset({\n",
       "        features: ['idx', 'premise_input_ids', 'premise_attention_mask', 'hypothesis_input_ids', 'hypothesis_attention_mask', 'labels'],\n",
       "        num_rows: 1000\n",
       "    })\n",
       "    test: Dataset({\n",
       "        features: ['idx', 'premise_input_ids', 'premise_attention_mask', 'hypothesis_input_ids', 'hypothesis_attention_mask', 'labels'],\n",
       "        num_rows: 100\n",
       "    })\n",
       "})"
      ]
     },
     "execution_count": 9,
     "metadata": {},
     "output_type": "execute_result"
    }
   ],
   "source": [
    "tokenized_datasets"
   ]
  },
  {
   "cell_type": "code",
   "execution_count": 10,
   "metadata": {},
   "outputs": [],
   "source": [
    "# The test set in both mnli_matched and mnli_mismatched does not have gold labels. \n",
    "# In MNLI, the test set is unannotated, so label = -1 is used as a placeholder.\n",
    "\n",
    "from torch.utils.data import DataLoader\n",
    "\n",
    "batch_size = 2\n",
    "\n",
    "test_dataloader = DataLoader(\n",
    "    tokenized_datasets['test'], \n",
    "    batch_size=batch_size\n",
    ")"
   ]
  },
  {
   "cell_type": "code",
   "execution_count": 11,
   "metadata": {},
   "outputs": [],
   "source": [
    "max_len = 1000\n",
    "n_layers = 12\n",
    "n_heads = 12\n",
    "d_model = 768\n",
    "d_ff = d_model * 4\n",
    "d_k = d_v = 64\n",
    "n_segments = 2"
   ]
  },
  {
   "cell_type": "code",
   "execution_count": 12,
   "metadata": {},
   "outputs": [],
   "source": [
    "from torch import nn\n",
    "\n",
    "# BERT Model Definition\n",
    "\n",
    "from torch import nn\n",
    "\n",
    "class Embedding(nn.Module):\n",
    "    def __init__(self, vocab_size, max_len, n_segments, d_model, device):\n",
    "        super(Embedding, self).__init__()\n",
    "        self.tok_embed = nn.Embedding(vocab_size, d_model)\n",
    "        self.pos_embed = nn.Embedding(max_len, d_model)\n",
    "        self.seg_embed = nn.Embedding(n_segments, d_model)\n",
    "        self.norm = nn.LayerNorm(d_model)\n",
    "        self.device = device\n",
    "\n",
    "    def forward(self, x, seg):\n",
    "        seq_len = x.size(1)\n",
    "        pos = (\n",
    "            torch.arange(seq_len, dtype=torch.long)\n",
    "            .to(self.device)\n",
    "            .unsqueeze(0)\n",
    "            .expand_as(x)\n",
    "        )\n",
    "        embedding = self.tok_embed(x) + self.pos_embed(pos) + self.seg_embed(seg)\n",
    "        return self.norm(embedding)\n",
    "\n",
    "\n",
    "class BERT(nn.Module):\n",
    "    def __init__(\n",
    "        self,\n",
    "        n_layers,\n",
    "        n_heads,\n",
    "        d_model,\n",
    "        d_ff,\n",
    "        d_k,\n",
    "        n_segments,\n",
    "        vocab_size,\n",
    "        max_len,\n",
    "        device,\n",
    "    ):\n",
    "        super(BERT, self).__init__()\n",
    "        self.embedding = Embedding(vocab_size, max_len, n_segments, d_model, device)\n",
    "        self.layers = nn.ModuleList(\n",
    "            [EncoderLayer(n_heads, d_model, d_ff, d_k, device) for _ in range(n_layers)]\n",
    "        )\n",
    "        self.fc = nn.Linear(d_model, d_model)\n",
    "        self.activ = nn.Tanh()\n",
    "        self.linear = nn.Linear(d_model, d_model)\n",
    "        self.norm = nn.LayerNorm(d_model)\n",
    "        self.classifier = nn.Linear(d_model, 2)\n",
    "        self.decoder = nn.Linear(d_model, vocab_size, bias=False)\n",
    "        self.decoder_bias = nn.Parameter(torch.zeros(vocab_size))\n",
    "        self.device = device\n",
    "\n",
    "    def forward(self, input_ids, segment_ids):\n",
    "        output = self.embedding(input_ids, segment_ids)\n",
    "        enc_self_attn_mask = get_attn_pad_mask(input_ids, input_ids, self.device)\n",
    "        for layer in self.layers:\n",
    "            output, _ = layer(output, enc_self_attn_mask)\n",
    "        return output\n",
    "\n",
    "    def get_last_hidden_state(self, input_ids):\n",
    "        segment_ids = torch.zeros_like(input_ids).to(self.device)\n",
    "        output = self.embedding(input_ids, segment_ids)\n",
    "        enc_self_attn_mask = get_attn_pad_mask(input_ids, input_ids, self.device)\n",
    "        for layer in self.layers:\n",
    "            output, _ = layer(output, enc_self_attn_mask)\n",
    "        return output\n",
    "\n",
    "\n",
    "def get_attn_pad_mask(seq_q, seq_k, device):\n",
    "    batch_size, len_q = seq_q.size()\n",
    "    batch_size, len_k = seq_k.size()\n",
    "    pad_attn_mask = seq_k.data.eq(0).unsqueeze(1).to(device)\n",
    "    return pad_attn_mask.expand(batch_size, len_q, len_k)\n",
    "\n",
    "\n",
    "class EncoderLayer(nn.Module):\n",
    "    def __init__(self, n_heads, d_model, d_ff, d_k, device):\n",
    "        super(EncoderLayer, self).__init__()\n",
    "        self.enc_self_attn = MultiHeadAttention(n_heads, d_model, d_k, device)\n",
    "        self.pos_ffn = PoswiseFeedForwardNet(d_model, d_ff)\n",
    "\n",
    "    def forward(self, enc_inputs, enc_self_attn_mask):\n",
    "        enc_outputs, attn = self.enc_self_attn(\n",
    "            enc_inputs, enc_inputs, enc_inputs, enc_self_attn_mask\n",
    "        )\n",
    "        enc_outputs = self.pos_ffn(enc_outputs)\n",
    "        return enc_outputs, attn\n",
    "\n",
    "\n",
    "class MultiHeadAttention(nn.Module):\n",
    "    def __init__(self, n_heads, d_model, d_k, device):\n",
    "        super(MultiHeadAttention, self).__init__()\n",
    "        self.n_heads = n_heads\n",
    "        self.d_model = d_model\n",
    "        self.d_k = d_k\n",
    "        self.W_Q = nn.Linear(d_model, d_k * n_heads)\n",
    "        self.W_K = nn.Linear(d_model, d_k * n_heads)\n",
    "        self.W_V = nn.Linear(d_model, d_k * n_heads)\n",
    "        self.device = device\n",
    "\n",
    "    def forward(self, Q, K, V, attn_mask):\n",
    "        residual, batch_size = Q, Q.size(0)\n",
    "        q_s = self.W_Q(Q).view(batch_size, -1, self.n_heads, self.d_k).transpose(1, 2)\n",
    "        k_s = self.W_K(K).view(batch_size, -1, self.n_heads, self.d_k).transpose(1, 2)\n",
    "        v_s = self.W_V(V).view(batch_size, -1, self.n_heads, self.d_k).transpose(1, 2)\n",
    "        attn_mask = attn_mask.unsqueeze(1).repeat(1, self.n_heads, 1, 1)\n",
    "        context, attn = ScaledDotProductAttention(self.d_k, self.device)(\n",
    "            q_s, k_s, v_s, attn_mask\n",
    "        )\n",
    "        context = (\n",
    "            context.transpose(1, 2)\n",
    "            .contiguous()\n",
    "            .view(batch_size, -1, self.n_heads * self.d_k)\n",
    "        )\n",
    "        output = nn.Linear(self.n_heads * self.d_k, self.d_model).to(self.device)(\n",
    "            context\n",
    "        )\n",
    "        return nn.LayerNorm(self.d_model).to(self.device)(output + residual), attn\n",
    "\n",
    "\n",
    "class ScaledDotProductAttention(nn.Module):\n",
    "    def __init__(self, d_k, device):\n",
    "        super(ScaledDotProductAttention, self).__init__()\n",
    "        self.scale = torch.sqrt(torch.FloatTensor([d_k])).to(device)\n",
    "\n",
    "    def forward(self, Q, K, V, attn_mask):\n",
    "        scores = torch.matmul(Q, K.transpose(-1, -2)) / self.scale\n",
    "        scores.masked_fill_(attn_mask, -1e9)\n",
    "        attn = nn.Softmax(dim=-1)(scores)\n",
    "        context = torch.matmul(attn, V)\n",
    "        return context, attn\n",
    "\n",
    "\n",
    "class PoswiseFeedForwardNet(nn.Module):\n",
    "    def __init__(self, d_model, d_ff):\n",
    "        super(PoswiseFeedForwardNet, self).__init__()\n",
    "        self.fc1 = nn.Linear(d_model, d_ff)\n",
    "        self.fc2 = nn.Linear(d_ff, d_model)\n",
    "\n",
    "    def forward(self, x):\n",
    "        return self.fc2(nn.functional.gelu(self.fc1(x)))"
   ]
  },
  {
   "cell_type": "code",
   "execution_count": 13,
   "metadata": {},
   "outputs": [
    {
     "name": "stdout",
     "output_type": "stream",
     "text": [
      "Model and classifier head loaded successfully.\n"
     ]
    }
   ],
   "source": [
    "model = BERT(\n",
    "    n_layers=n_layers,\n",
    "    n_heads=n_heads,\n",
    "    d_model=d_model,\n",
    "    d_ff=d_ff,\n",
    "    d_k=d_k,\n",
    "    n_segments=n_segments,\n",
    "    vocab_size=len(word2id),\n",
    "    max_len=max_len,\n",
    "    device=device\n",
    ").to(device)\n",
    "\n",
    "\n",
    "model.load_state_dict(torch.load('models/custom_bert_mnli.pth', map_location=device))\n",
    "model.eval()\n",
    "\n",
    "classifier_head = nn.Linear(768*3, 3).to(device)\n",
    "classifier_head.load_state_dict(torch.load('models/classifier_head.pth', map_location=device))\n",
    "classifier_head.eval()\n",
    "print(\"Model and classifier head loaded successfully.\")"
   ]
  },
  {
   "cell_type": "code",
   "execution_count": 14,
   "metadata": {},
   "outputs": [],
   "source": [
    "def mean_pool(token_embeds, attention_mask):\n",
    "    # reshape attention_mask to cover 768-dimension embeddings\n",
    "    in_mask = attention_mask.unsqueeze(-1).expand(\n",
    "        token_embeds.size()\n",
    "    ).float()\n",
    "    # perform mean-pooling but exclude padding tokens (specified by in_mask)\n",
    "    pool = torch.sum(token_embeds * in_mask, 1) / torch.clamp(\n",
    "        in_mask.sum(1), min=1e-9\n",
    "    )\n",
    "    return pool"
   ]
  },
  {
   "cell_type": "code",
   "execution_count": 15,
   "metadata": {},
   "outputs": [
    {
     "name": "stdout",
     "output_type": "stream",
     "text": [
      "Unique True Labels: [0 1 2]\n",
      "Unique Predictions: [1]\n",
      "Accuracy: 0.2900\n",
      "Weighted Precision: 0.0841\n",
      "Weighted Recall: 0.2900\n",
      "Weighted F1-score: 0.1304\n",
      "Macro Precision: 0.0967\n",
      "Macro Recall: 0.3333\n",
      "Macro F1-score: 0.1499\n"
     ]
    },
    {
     "name": "stderr",
     "output_type": "stream",
     "text": [
      "c:\\Users\\neucl\\Dev\\NLP\\pytorch-cuda-12.1\\Lib\\site-packages\\sklearn\\metrics\\_classification.py:1565: UndefinedMetricWarning: Precision is ill-defined and being set to 0.0 in labels with no predicted samples. Use `zero_division` parameter to control this behavior.\n",
      "  _warn_prf(average, modifier, f\"{metric.capitalize()} is\", len(result))\n",
      "c:\\Users\\neucl\\Dev\\NLP\\pytorch-cuda-12.1\\Lib\\site-packages\\sklearn\\metrics\\_classification.py:1565: UndefinedMetricWarning: Precision is ill-defined and being set to 0.0 in labels with no predicted samples. Use `zero_division` parameter to control this behavior.\n",
      "  _warn_prf(average, modifier, f\"{metric.capitalize()} is\", len(result))\n"
     ]
    }
   ],
   "source": [
    "from sklearn.metrics import (\n",
    "    accuracy_score,\n",
    "    precision_recall_fscore_support,\n",
    ")\n",
    "\n",
    "\n",
    "true_labels = []\n",
    "predictions = []\n",
    "\n",
    "model.eval()\n",
    "classifier_head.eval()\n",
    "\n",
    "with torch.no_grad():\n",
    "    for batch in test_dataloader:\n",
    "        premise_input_ids = batch[\"premise_input_ids\"].to(device)\n",
    "        hypothesis_input_ids = batch[\"hypothesis_input_ids\"].to(device)\n",
    "        premise_attention_mask = batch[\"premise_attention_mask\"].to(device)\n",
    "        hypothesis_attention_mask = batch[\"hypothesis_attention_mask\"].to(device)\n",
    "        labels = batch[\"labels\"].to(device)\n",
    "\n",
    "        # create segment IDs for premise and hypothesis\n",
    "        premise_segment_ids = torch.zeros_like(premise_input_ids).to(device)\n",
    "        hypothesis_segment_ids = torch.ones_like(hypothesis_input_ids).to(device)\n",
    "\n",
    "        # extract last hidden states using custom BERT for premise and hypothesis\n",
    "        u = model.get_last_hidden_state(premise_input_ids)\n",
    "        v = model.get_last_hidden_state(hypothesis_input_ids)\n",
    "\n",
    "        # get the mean pooled vectors for premise and hypothesis\n",
    "        u_mean_pool = mean_pool(u, premise_attention_mask)  # [B, H]\n",
    "        v_mean_pool = mean_pool(v, hypothesis_attention_mask)  # [B, H]\n",
    "\n",
    "        uv_abs = torch.abs(u_mean_pool - v_mean_pool)\n",
    "        x = torch.cat([u_mean_pool, v_mean_pool, uv_abs], dim=-1)\n",
    "        logits = classifier_head(x)\n",
    "        preds = torch.argmax(logits, dim=1)\n",
    "        true_labels.extend(labels.cpu().numpy())\n",
    "        predictions.extend(preds.cpu().numpy())\n",
    "\n",
    "# convert to numpy arrays for metrics calculation\n",
    "true_labels = np.array(true_labels)\n",
    "predictions = np.array(predictions)\n",
    "\n",
    "print(\"Unique True Labels:\", np.unique(true_labels))\n",
    "print(\"Unique Predictions:\", np.unique(predictions))\n",
    "\n",
    "accuracy = accuracy_score(true_labels, predictions)\n",
    "precision, recall, f1, _ = precision_recall_fscore_support(\n",
    "    true_labels, predictions, average=\"weighted\"\n",
    ")\n",
    "macro_precision, macro_recall, macro_f1, _ = precision_recall_fscore_support(\n",
    "    true_labels, predictions, average=\"macro\"\n",
    ")\n",
    "\n",
    "print(f\"Accuracy: {accuracy:.4f}\")\n",
    "print(f\"Weighted Precision: {precision:.4f}\")\n",
    "print(f\"Weighted Recall: {recall:.4f}\")\n",
    "print(f\"Weighted F1-score: {f1:.4f}\")\n",
    "print(f\"Macro Precision: {macro_precision:.4f}\")\n",
    "print(f\"Macro Recall: {macro_recall:.4f}\")\n",
    "print(f\"Macro F1-score: {macro_f1:.4f}\")"
   ]
  },
  {
   "cell_type": "code",
   "execution_count": 20,
   "metadata": {},
   "outputs": [
    {
     "name": "stdout",
     "output_type": "stream",
     "text": [
      "{\n",
      "    \"entailment\": {\n",
      "        \"precision\": 0.0,\n",
      "        \"recall\": 0.0,\n",
      "        \"f1-score\": 0.0,\n",
      "        \"support\": 31.0\n",
      "    },\n",
      "    \"neutral\": {\n",
      "        \"precision\": 0.29,\n",
      "        \"recall\": 1.0,\n",
      "        \"f1-score\": 0.4496124031007752,\n",
      "        \"support\": 29.0\n",
      "    },\n",
      "    \"contradiction\": {\n",
      "        \"precision\": 0.0,\n",
      "        \"recall\": 0.0,\n",
      "        \"f1-score\": 0.0,\n",
      "        \"support\": 40.0\n",
      "    },\n",
      "    \"accuracy\": 0.29,\n",
      "    \"macro avg\": {\n",
      "        \"precision\": 0.09666666666666666,\n",
      "        \"recall\": 0.3333333333333333,\n",
      "        \"f1-score\": 0.14987080103359174,\n",
      "        \"support\": 100.0\n",
      "    },\n",
      "    \"weighted avg\": {\n",
      "        \"precision\": 0.08410000000000001,\n",
      "        \"recall\": 0.29,\n",
      "        \"f1-score\": 0.1303875968992248,\n",
      "        \"support\": 100.0\n",
      "    }\n",
      "}\n"
     ]
    },
    {
     "name": "stderr",
     "output_type": "stream",
     "text": [
      "c:\\Users\\neucl\\Dev\\NLP\\pytorch-cuda-12.1\\Lib\\site-packages\\sklearn\\metrics\\_classification.py:1565: UndefinedMetricWarning: Precision is ill-defined and being set to 0.0 in labels with no predicted samples. Use `zero_division` parameter to control this behavior.\n",
      "  _warn_prf(average, modifier, f\"{metric.capitalize()} is\", len(result))\n",
      "c:\\Users\\neucl\\Dev\\NLP\\pytorch-cuda-12.1\\Lib\\site-packages\\sklearn\\metrics\\_classification.py:1565: UndefinedMetricWarning: Precision is ill-defined and being set to 0.0 in labels with no predicted samples. Use `zero_division` parameter to control this behavior.\n",
      "  _warn_prf(average, modifier, f\"{metric.capitalize()} is\", len(result))\n",
      "c:\\Users\\neucl\\Dev\\NLP\\pytorch-cuda-12.1\\Lib\\site-packages\\sklearn\\metrics\\_classification.py:1565: UndefinedMetricWarning: Precision is ill-defined and being set to 0.0 in labels with no predicted samples. Use `zero_division` parameter to control this behavior.\n",
      "  _warn_prf(average, modifier, f\"{metric.capitalize()} is\", len(result))\n"
     ]
    }
   ],
   "source": [
    "from sklearn.metrics import classification_report\n",
    "\n",
    "print(\n",
    "    json.dumps(\n",
    "        classification_report(\n",
    "            true_labels,\n",
    "            predictions,\n",
    "            target_names=[\"entailment\", \"neutral\", \"contradiction\"],\n",
    "            labels=[0, 1, 2], \n",
    "            output_dict=True\n",
    "        ), indent=4\n",
    "    )\n",
    ")"
   ]
  },
  {
   "cell_type": "code",
   "execution_count": 17,
   "metadata": {},
   "outputs": [
    {
     "data": {
      "image/png": "[encoded data removed]",
      "text/plain": [
       "<Figure size 800x600 with 2 Axes>"
      ]
     },
     "metadata": {},
     "output_type": "display_data"
    }
   ],
   "source": [
    "import seaborn as sns\n",
    "from matplotlib import pyplot as plt\n",
    "from sklearn.metrics import confusion_matrix\n",
    "\n",
    "cm = confusion_matrix(true_labels, predictions, labels=[0, 1, 2])\n",
    "class_names = ['entailment', 'neutral', 'contradiction']\n",
    "plt.figure(figsize=(8, 6))\n",
    "sns.heatmap(cm, annot=True, fmt='d', cmap='Blues', xticklabels=class_names, yticklabels=class_names)\n",
    "plt.xlabel('Predicted Labels')\n",
    "plt.ylabel('True Labels')\n",
    "plt.title('Confusion Matrix')\n",
    "plt.show()"
   ]
  }
 ],
 "metadata": {
  "kernelspec": {
   "display_name": "pytorch-cuda-12.1",
   "language": "python",
   "name": "python3"
  },
  "language_info": {
   "codemirror_mode": {
    "name": "ipython",
    "version": 3
   },
   "file_extension": ".py",
   "mimetype": "text/x-python",
   "name": "python",
   "nbconvert_exporter": "python",
   "pygments_lexer": "ipython3",
   "version": "3.12.5"
  }
 },
 "nbformat": 4,
 "nbformat_minor": 2
}
